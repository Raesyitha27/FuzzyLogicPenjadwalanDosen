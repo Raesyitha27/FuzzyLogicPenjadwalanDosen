{
  "nbformat": 4,
  "nbformat_minor": 0,
  "metadata": {
    "colab": {
      "provenance": [],
      "authorship_tag": "ABX9TyMsJKISmW+57ONvD/iRECuf",
      "include_colab_link": true
    },
    "kernelspec": {
      "name": "python3",
      "display_name": "Python 3"
    },
    "language_info": {
      "name": "python"
    }
  },
  "cells": [
    {
      "cell_type": "markdown",
      "metadata": {
        "id": "view-in-github",
        "colab_type": "text"
      },
      "source": [
        "<a href=\"https://colab.research.google.com/github/Raesyitha27/FuzzyLogicPenjadwalanDosen/blob/main/FuzzyPenjadwalan.ipynb\" target=\"_parent\"><img src=\"https://colab.research.google.com/assets/colab-badge.svg\" alt=\"Open In Colab\"/></a>"
      ]
    },
    {
      "cell_type": "code",
      "execution_count": 1,
      "metadata": {
        "colab": {
          "base_uri": "https://localhost:8080/"
        },
        "id": "Ch8-1B2MpB-i",
        "outputId": "a8ced019-aed8-4349-9167-a801cacd9005"
      },
      "outputs": [
        {
          "output_type": "stream",
          "name": "stdout",
          "text": [
            "Collecting scikit-fuzzy\n",
            "  Downloading scikit_fuzzy-0.5.0-py2.py3-none-any.whl.metadata (2.6 kB)\n",
            "Downloading scikit_fuzzy-0.5.0-py2.py3-none-any.whl (920 kB)\n",
            "\u001b[?25l   \u001b[90m━━━━━━━━━━━━━━━━━━━━━━━━━━━━━━━━━━━━━━━━\u001b[0m \u001b[32m0.0/920.8 kB\u001b[0m \u001b[31m?\u001b[0m eta \u001b[36m-:--:--\u001b[0m\r\u001b[2K   \u001b[91m━━━━\u001b[0m\u001b[90m╺\u001b[0m\u001b[90m━━━━━━━━━━━━━━━━━━━━━━━━━━━━━━━━━━━\u001b[0m \u001b[32m102.4/920.8 kB\u001b[0m \u001b[31m2.8 MB/s\u001b[0m eta \u001b[36m0:00:01\u001b[0m\r\u001b[2K   \u001b[91m━━━━━━━━━━━━━━━━━━━━━━━━━━━━\u001b[0m\u001b[91m╸\u001b[0m\u001b[90m━━━━━━━━━━━\u001b[0m \u001b[32m665.6/920.8 kB\u001b[0m \u001b[31m9.4 MB/s\u001b[0m eta \u001b[36m0:00:01\u001b[0m\r\u001b[2K   \u001b[90m━━━━━━━━━━━━━━━━━━━━━━━━━━━━━━━━━━━━━━━━\u001b[0m \u001b[32m920.8/920.8 kB\u001b[0m \u001b[31m9.5 MB/s\u001b[0m eta \u001b[36m0:00:00\u001b[0m\n",
            "\u001b[?25hInstalling collected packages: scikit-fuzzy\n",
            "Successfully installed scikit-fuzzy-0.5.0\n"
          ]
        }
      ],
      "source": [
        "! pip install scikit-fuzzy"
      ]
    },
    {
      "cell_type": "code",
      "source": [
        "import numpy as np\n",
        "import skfuzzy as fuzz\n",
        "from skfuzzy import control as ctrl\n",
        "\n",
        "# Variabel Input\n",
        "preferensi_waktu = ctrl.Antecedent(np.arange(0, 11, 1), 'preferensi_waktu')  # Skala 0-10\n",
        "ketersediaan_ruang = ctrl.Antecedent(np.arange(0, 11, 1), 'ketersediaan_ruang')  # Skala 0-10\n",
        "jumlah_kelas = ctrl.Antecedent(np.arange(0, 11, 1), 'jumlah_kelas')  # Skala 0-10\n",
        "\n",
        "# Variabel Output\n",
        "optimalitas_jadwal = ctrl.Consequent(np.arange(0, 11, 1), 'optimalitas_jadwal')  # Skala 0-10\n",
        "\n",
        "# Definisi Membership Function\n",
        "preferensi_waktu['tidak_sesuai'] = fuzz.trapmf(preferensi_waktu.universe, [0, 0, 2, 4])\n",
        "preferensi_waktu['cukup_sesuai'] = fuzz.trimf(preferensi_waktu.universe, [3, 5, 7])\n",
        "preferensi_waktu['sangat_sesuai'] = fuzz.trapmf(preferensi_waktu.universe, [6, 8, 10, 10])\n",
        "\n",
        "ketersediaan_ruang['tidak_tersedia'] = fuzz.trapmf(ketersediaan_ruang.universe, [0, 0, 2, 4])\n",
        "ketersediaan_ruang['terbatas'] = fuzz.trimf(ketersediaan_ruang.universe, [3, 5, 7])\n",
        "ketersediaan_ruang['tersedia'] = fuzz.trapmf(ketersediaan_ruang.universe, [6, 8, 10, 10])\n",
        "\n",
        "jumlah_kelas['sedikit'] = fuzz.trapmf(jumlah_kelas.universe, [0, 0, 2, 4])\n",
        "jumlah_kelas['sedang'] = fuzz.trimf(jumlah_kelas.universe, [3, 5, 7])\n",
        "jumlah_kelas['banyak'] = fuzz.trapmf(jumlah_kelas.universe, [6, 8, 10, 10])\n",
        "\n",
        "optimalitas_jadwal['kurang_optimal'] = fuzz.trapmf(optimalitas_jadwal.universe, [0, 0, 2, 4])\n",
        "optimalitas_jadwal['cukup_fleksibel'] = fuzz.trimf(optimalitas_jadwal.universe, [3, 5, 7])\n",
        "optimalitas_jadwal['optimal'] = fuzz.trapmf(optimalitas_jadwal.universe, [6, 8, 10, 10])\n",
        "\n",
        "# Aturan Fuzzy\n",
        "rule1 = ctrl.Rule(preferensi_waktu['sangat_sesuai'] & ketersediaan_ruang['tersedia'] & jumlah_kelas['sedikit'],\n",
        "                  optimalitas_jadwal['optimal'])\n",
        "rule2 = ctrl.Rule(preferensi_waktu['cukup_sesuai'] & ketersediaan_ruang['terbatas'] & jumlah_kelas['sedang'],\n",
        "                  optimalitas_jadwal['cukup_fleksibel'])\n",
        "rule3 = ctrl.Rule(preferensi_waktu['tidak_sesuai'] | ketersediaan_ruang['tidak_tersedia'],\n",
        "                  optimalitas_jadwal['kurang_optimal'])\n",
        "rule4 = ctrl.Rule(jumlah_kelas['banyak'] & ketersediaan_ruang['terbatas'],\n",
        "                  optimalitas_jadwal['cukup_fleksibel'])\n",
        "\n",
        "# Sistem Kontrol\n",
        "jadwal_ctrl = ctrl.ControlSystem([rule1, rule2, rule3, rule4])\n",
        "jadwal_simulasi = ctrl.ControlSystemSimulation(jadwal_ctrl)\n",
        "\n",
        "# Input dari Pengguna\n",
        "try:\n",
        "    preferensi_input = float(input(\"Masukkan preferensi waktu dosen (0-10): \"))\n",
        "    ruang_input = float(input(\"Masukkan ketersediaan ruang kelas (0-10): \"))\n",
        "    kelas_input = float(input(\"Masukkan jumlah kelas yang diajar (0-10): \"))\n",
        "\n",
        "    if not (0 <= preferensi_input <= 10):\n",
        "        raise ValueError(\"Nilai preferensi waktu harus dalam rentang 0-10.\")\n",
        "    if not (0 <= ruang_input <= 10):\n",
        "        raise ValueError(\"Nilai ketersediaan ruang harus dalam rentang 0-10.\")\n",
        "    if not (0 <= kelas_input <= 10):\n",
        "        raise ValueError(\"Nilai jumlah kelas harus dalam rentang 0-10.\")\n",
        "\n",
        "    # Masukkan input ke simulasi\n",
        "    jadwal_simulasi.input['preferensi_waktu'] = preferensi_input\n",
        "    jadwal_simulasi.input['ketersediaan_ruang'] = ruang_input\n",
        "    jadwal_simulasi.input['jumlah_kelas'] = kelas_input\n",
        "\n",
        "    # Hitung output\n",
        "    jadwal_simulasi.compute()\n",
        "\n",
        "    # Output hasil\n",
        "    hasil_optimalitas = jadwal_simulasi.output['optimalitas_jadwal']\n",
        "    if hasil_optimalitas <= 4:\n",
        "        deskripsi_optimalitas = \"Kurang Optimal\"\n",
        "    elif 4 < hasil_optimalitas <= 7:\n",
        "        deskripsi_optimalitas = \"Cukup Fleksibel\"\n",
        "    else:\n",
        "        deskripsi_optimalitas = \"Optimal\"\n",
        "\n",
        "    print(f\"\\nPrediksi Optimalitas Jadwal (0=kurang optimal, 10=optimal): {hasil_optimalitas:.2f}\")\n",
        "    print(f\"Kondisi Jadwal: {deskripsi_optimalitas}\")\n",
        "\n",
        "except ValueError as e:\n",
        "    print(f\"Input tidak valid: {e}\")\n"
      ],
      "metadata": {
        "id": "omi0cD5XsnUr"
      },
      "execution_count": null,
      "outputs": []
    },
    {
      "cell_type": "code",
      "source": [
        "! pip install matplotlib"
      ],
      "metadata": {
        "colab": {
          "base_uri": "https://localhost:8080/"
        },
        "id": "-gJUpFrutp69",
        "outputId": "c1ae2f67-6951-48d2-ab93-8202b76cf7fc"
      },
      "execution_count": 3,
      "outputs": [
        {
          "output_type": "stream",
          "name": "stdout",
          "text": [
            "Requirement already satisfied: matplotlib in /usr/local/lib/python3.10/dist-packages (3.8.0)\n",
            "Requirement already satisfied: contourpy>=1.0.1 in /usr/local/lib/python3.10/dist-packages (from matplotlib) (1.3.1)\n",
            "Requirement already satisfied: cycler>=0.10 in /usr/local/lib/python3.10/dist-packages (from matplotlib) (0.12.1)\n",
            "Requirement already satisfied: fonttools>=4.22.0 in /usr/local/lib/python3.10/dist-packages (from matplotlib) (4.55.0)\n",
            "Requirement already satisfied: kiwisolver>=1.0.1 in /usr/local/lib/python3.10/dist-packages (from matplotlib) (1.4.7)\n",
            "Requirement already satisfied: numpy<2,>=1.21 in /usr/local/lib/python3.10/dist-packages (from matplotlib) (1.26.4)\n",
            "Requirement already satisfied: packaging>=20.0 in /usr/local/lib/python3.10/dist-packages (from matplotlib) (24.2)\n",
            "Requirement already satisfied: pillow>=6.2.0 in /usr/local/lib/python3.10/dist-packages (from matplotlib) (11.0.0)\n",
            "Requirement already satisfied: pyparsing>=2.3.1 in /usr/local/lib/python3.10/dist-packages (from matplotlib) (3.2.0)\n",
            "Requirement already satisfied: python-dateutil>=2.7 in /usr/local/lib/python3.10/dist-packages (from matplotlib) (2.8.2)\n",
            "Requirement already satisfied: six>=1.5 in /usr/local/lib/python3.10/dist-packages (from python-dateutil>=2.7->matplotlib) (1.16.0)\n"
          ]
        }
      ]
    },
    {
      "cell_type": "code",
      "source": [
        "import matplotlib.pyplot as plt\n",
        "import numpy as np\n",
        "\n",
        "# Fungsi Keanggotaan untuk Preferensi Waktu\n",
        "preferensi_waktu = np.arange(0, 11, 1)\n",
        "tidak_sesuai = np.piecewise(preferensi_waktu,\n",
        "                            [preferensi_waktu <= 2,\n",
        "                             (preferensi_waktu > 2) & (preferensi_waktu <= 4),\n",
        "                             preferensi_waktu > 4],\n",
        "                            [1, lambda x: (4 - x) / (4 - 2), 0])\n",
        "cukup_sesuai = np.piecewise(preferensi_waktu,\n",
        "                            [(preferensi_waktu >= 3) & (preferensi_waktu <= 5),\n",
        "                             (preferensi_waktu > 5) & (preferensi_waktu <= 7)],\n",
        "                            [lambda x: (x - 3) / (5 - 3), lambda x: (7 - x) / (7 - 5)])\n",
        "sangat_sesuai = np.piecewise(preferensi_waktu,\n",
        "                             [(preferensi_waktu >= 6) & (preferensi_waktu <= 8),\n",
        "                              preferensi_waktu > 8],\n",
        "                             [lambda x: (x - 6) / (8 - 6), 1])\n",
        "\n",
        "# Fungsi Keanggotaan untuk Ketersediaan Ruang\n",
        "ketersediaan_ruang = np.arange(0, 11, 1)\n",
        "tidak_tersedia = np.piecewise(ketersediaan_ruang,\n",
        "                              [ketersediaan_ruang <= 3,\n",
        "                               (ketersediaan_ruang > 3) & (ketersediaan_ruang <= 5),\n",
        "                               ketersediaan_ruang > 5],\n",
        "                              [1, lambda x: (5 - x) / (5 - 3), 0])\n",
        "terbatas = np.piecewise(ketersediaan_ruang,\n",
        "                        [(ketersediaan_ruang >= 4) & (ketersediaan_ruang <= 6),\n",
        "                         (ketersediaan_ruang > 6) & (ketersediaan_ruang <= 8)],\n",
        "                        [lambda x: (x - 4) / (6 - 4), lambda x: (8 - x) / (8 - 6)])\n",
        "tersedia = np.piecewise(ketersediaan_ruang,\n",
        "                        [(ketersediaan_ruang >= 7) & (ketersediaan_ruang <= 9),\n",
        "                         ketersediaan_ruang > 9],\n",
        "                        [lambda x: (x - 7) / (9 - 7), 1])\n",
        "\n",
        "# Fungsi Keanggotaan untuk Jumlah Kelas\n",
        "jumlah_kelas = np.arange(0, 11, 1)\n",
        "sedikit = np.piecewise(jumlah_kelas,\n",
        "                       [jumlah_kelas <= 3,\n",
        "                        (jumlah_kelas > 3) & (jumlah_kelas <= 5),\n",
        "                        jumlah_kelas > 5],\n",
        "                       [1, lambda x: (5 - x) / (5 - 3), 0])\n",
        "sedang = np.piecewise(jumlah_kelas,\n",
        "                      [(jumlah_kelas >= 4) & (jumlah_kelas <= 6),\n",
        "                       (jumlah_kelas > 6) & (jumlah_kelas <= 8)],\n",
        "                      [lambda x: (x - 4) / (6 - 4), lambda x: (8 - x) / (8 - 6)])\n",
        "banyak = np.piecewise(jumlah_kelas,\n",
        "                      [(jumlah_kelas >= 7) & (jumlah_kelas <= 9),\n",
        "                       jumlah_kelas > 9],\n",
        "                      [lambda x: (x - 7) / (9 - 7), 1])\n",
        "\n",
        "# Fungsi Keanggotaan untuk Optimalitas Jadwal\n",
        "optimalitas_jadwal = np.arange(0, 11, 1)\n",
        "kurang_optimal = np.piecewise(optimalitas_jadwal,\n",
        "                              [optimalitas_jadwal <= 3,\n",
        "                               (optimalitas_jadwal > 3) & (optimalitas_jadwal <= 5),\n",
        "                               optimalitas_jadwal > 5],\n",
        "                              [1, lambda x: (5 - x) / (5 - 3), 0])\n",
        "cukup_fleksibel = np.piecewise(optimalitas_jadwal,\n",
        "                               [(optimalitas_jadwal >= 4) & (optimalitas_jadwal <= 6),\n",
        "                                (optimalitas_jadwal > 6) & (optimalitas_jadwal <= 8)],\n",
        "                               [lambda x: (x - 4) / (6 - 4), lambda x: (8 - x) / (8 - 6)])\n",
        "optimal = np.piecewise(optimalitas_jadwal,\n",
        "                       [(optimalitas_jadwal >= 7) & (optimalitas_jadwal <= 9),\n",
        "                        optimalitas_jadwal > 9],\n",
        "                       [lambda x: (x - 7) / (9 - 7), 1])\n",
        "\n",
        "# Plot Semua Fungsi Keanggotaan\n",
        "variables = {\n",
        "    \"Preferensi Waktu\": (preferensi_waktu, [tidak_sesuai, cukup_sesuai, sangat_sesuai], [\"Tidak Sesuai\", \"Cukup Sesuai\", \"Sangat Sesuai\"]),\n",
        "    \"Ketersediaan Ruang\": (ketersediaan_ruang, [tidak_tersedia, terbatas, tersedia], [\"Tidak Tersedia\", \"Terbatas\", \"Tersedia\"]),\n",
        "    \"Jumlah Kelas\": (jumlah_kelas, [sedikit, sedang, banyak], [\"Sedikit\", \"Sedang\", \"Banyak\"]),\n",
        "    \"Optimalitas Jadwal\": (optimalitas_jadwal, [kurang_optimal, cukup_fleksibel, optimal], [\"Kurang Optimal\", \"Cukup Fleksibel\", \"Optimal\"])\n",
        "}\n",
        "\n",
        "for name, (x, memberships, labels) in variables.items():\n",
        "    plt.figure(figsize=(8, 5))\n",
        "    for membership, label in zip(memberships, labels):\n",
        "        plt.plot(x, membership, label=label)\n",
        "    plt.title(f\"Fungsi Keanggotaan {name}\")\n",
        "    plt.xlabel(\"Nilai\")\n",
        "    plt.ylabel(\"Derajat Keanggotaan\")\n",
        "    plt.legend()\n",
        "    plt.grid()\n",
        "    plt.show()"
      ],
      "metadata": {
        "id": "v2A100Rct1Jh"
      },
      "execution_count": null,
      "outputs": []
    }
  ]
}